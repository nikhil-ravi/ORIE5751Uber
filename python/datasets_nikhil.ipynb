{
 "cells": [
  {
   "cell_type": "code",
   "execution_count": 1,
   "metadata": {},
   "outputs": [],
   "source": [
    "import pandas as pd\n",
    "from shapely.geometry import Point\n",
    "import geopandas as gpd\n",
    "from geopandas import GeoDataFrame\n",
    "import numpy as np\n",
    "import osmnx as ox\n",
    "import networkx as nx\n",
    "from datetime import datetime\n",
    "from dateutil import tz\n",
    "import matplotlib.pyplot as plt"
   ]
  },
  {
   "cell_type": "code",
   "execution_count": 2,
   "metadata": {},
   "outputs": [],
   "source": [
    "# Load dataset\n",
    "data = pd.read_csv('../datasets/uber.csv',low_memory=False)\n",
    "data.drop(columns=['key','Unnamed: 0'],inplace=True)\n",
    "# data.dropna(inplace=True)"
   ]
  },
  {
   "cell_type": "code",
   "execution_count": 3,
   "metadata": {},
   "outputs": [
    {
     "name": "stdout",
     "output_type": "stream",
     "text": [
      "\\begin{tabular}{lrlrrrrr}\n",
      "\\toprule\n",
      "{} &  fare &                 datetime &   pick\\_lon &   pick\\_lat &   drop\\_lon &   drop\\_lat &  passenger \\\\\n",
      "\\midrule\n",
      "0 &   7.5 &  2015-05-07 19:52:06 UTC & -73.999817 &  40.738354 & -73.999512 &  40.723217 &          1 \\\\\n",
      "1 &   7.7 &  2009-07-17 20:04:56 UTC & -73.994355 &  40.728225 & -73.994710 &  40.750325 &          1 \\\\\n",
      "2 &  12.9 &  2009-08-24 21:45:00 UTC & -74.005043 &  40.740770 & -73.962565 &  40.772647 &          1 \\\\\n",
      "3 &   5.3 &  2009-06-26 08:22:21 UTC & -73.976124 &  40.790844 & -73.965316 &  40.803349 &          3 \\\\\n",
      "4 &  16.0 &  2014-08-28 17:47:00 UTC & -73.925023 &  40.744085 & -73.973082 &  40.761247 &          5 \\\\\n",
      "\\bottomrule\n",
      "\\end{tabular}\n",
      "\n"
     ]
    },
    {
     "name": "stderr",
     "output_type": "stream",
     "text": [
      "/var/folders/0g/sh5twr412574pwntlhzb221w0000gn/T/ipykernel_58522/398733858.py:1: FutureWarning: In future versions `DataFrame.to_latex` is expected to utilise the base implementation of `Styler.to_latex` for formatting and rendering. The arguments signature may therefore change. It is recommended instead to use `DataFrame.style.to_latex` which also contains additional functionality.\n",
      "  print(data.head().to_latex())\n"
     ]
    }
   ],
   "source": [
    "print(data.head().to_latex())"
   ]
  },
  {
   "cell_type": "code",
   "execution_count": 4,
   "metadata": {},
   "outputs": [
    {
     "name": "stdout",
     "output_type": "stream",
     "text": [
      "<class 'pandas.core.frame.DataFrame'>\n",
      "RangeIndex: 200000 entries, 0 to 199999\n",
      "Data columns (total 7 columns):\n",
      " #   Column     Non-Null Count   Dtype  \n",
      "---  ------     --------------   -----  \n",
      " 0   fare       200000 non-null  float64\n",
      " 1   datetime   200000 non-null  object \n",
      " 2   pick_lon   200000 non-null  float64\n",
      " 3   pick_lat   200000 non-null  float64\n",
      " 4   drop_lon   199999 non-null  float64\n",
      " 5   drop_lat   199999 non-null  float64\n",
      " 6   passenger  200000 non-null  int64  \n",
      "dtypes: float64(5), int64(1), object(1)\n",
      "memory usage: 10.7+ MB\n"
     ]
    }
   ],
   "source": [
    "data.info()"
   ]
  },
  {
   "cell_type": "code",
   "execution_count": 5,
   "metadata": {},
   "outputs": [
    {
     "data": {
      "text/html": [
       "<div>\n",
       "<style scoped>\n",
       "    .dataframe tbody tr th:only-of-type {\n",
       "        vertical-align: middle;\n",
       "    }\n",
       "\n",
       "    .dataframe tbody tr th {\n",
       "        vertical-align: top;\n",
       "    }\n",
       "\n",
       "    .dataframe thead th {\n",
       "        text-align: right;\n",
       "    }\n",
       "</style>\n",
       "<table border=\"1\" class=\"dataframe\">\n",
       "  <thead>\n",
       "    <tr style=\"text-align: right;\">\n",
       "      <th></th>\n",
       "      <th>fare</th>\n",
       "      <th>datetime</th>\n",
       "      <th>pick_lon</th>\n",
       "      <th>pick_lat</th>\n",
       "      <th>drop_lon</th>\n",
       "      <th>drop_lat</th>\n",
       "      <th>passenger</th>\n",
       "    </tr>\n",
       "  </thead>\n",
       "  <tbody>\n",
       "    <tr>\n",
       "      <th>87946</th>\n",
       "      <td>24.1</td>\n",
       "      <td>2013-07-02 03:51:57 UTC</td>\n",
       "      <td>-73.950581</td>\n",
       "      <td>40.779692</td>\n",
       "      <td>NaN</td>\n",
       "      <td>NaN</td>\n",
       "      <td>0</td>\n",
       "    </tr>\n",
       "  </tbody>\n",
       "</table>\n",
       "</div>"
      ],
      "text/plain": [
       "       fare                 datetime   pick_lon   pick_lat  drop_lon  \\\n",
       "87946  24.1  2013-07-02 03:51:57 UTC -73.950581  40.779692       NaN   \n",
       "\n",
       "       drop_lat  passenger  \n",
       "87946       NaN          0  "
      ]
     },
     "execution_count": 5,
     "metadata": {},
     "output_type": "execute_result"
    }
   ],
   "source": [
    "data[data.drop_lat.isna()]"
   ]
  },
  {
   "cell_type": "code",
   "execution_count": 6,
   "metadata": {},
   "outputs": [
    {
     "data": {
      "image/png": "[encoded data removed]",
      "text/plain": [
       "<Figure size 720x432 with 1 Axes>"
      ]
     },
     "metadata": {
      "needs_background": "light"
     },
     "output_type": "display_data"
    }
   ],
   "source": [
    "df = pd.DataFrame()\n",
    "a = np.hstack((data[['pick_lon','pick_lat']],data[['drop_lon','drop_lat']]))\n",
    "df[['lon','lat']] = np.array([[aa[0],aa[1]] for aa in a])\n",
    "\n",
    "geometry = [Point(xy) for xy in zip(df['lon'], df['lat'])]\n",
    "gdf = GeoDataFrame(df, geometry=geometry)   \n",
    "#this is a simple map that goes with geopandas\n",
    "world = gpd.read_file(gpd.datasets.get_path('naturalearth_lowres'))\n",
    "gdf.plot(ax=world.plot(figsize=(10, 6)), marker='o', color='red', markersize=15);"
   ]
  },
  {
   "cell_type": "markdown",
   "metadata": {},
   "source": [
    "Let us first clear the obvious outliers: We need $-180 \\leq lon \\leq 180$ and $-90 \\leq lat \\leq 90$"
   ]
  },
  {
   "cell_type": "code",
   "execution_count": 7,
   "metadata": {},
   "outputs": [],
   "source": [
    "# Clean the data in terms of outlier co-ordinates\n",
    "data = data[~((data['pick_lon']>180) | (data['pick_lon']<-180) | (data['pick_lat']>90) | (data['pick_lat']<-90))]\n",
    "data = data[~((data['drop_lon']>180) | (data['drop_lon']<-180) | (data['drop_lat']>90) | (data['drop_lat']<-90))]"
   ]
  },
  {
   "cell_type": "code",
   "execution_count": 8,
   "metadata": {},
   "outputs": [
    {
     "data": {
      "text/plain": [
       "array([[<AxesSubplot:title={'center':'pick_lat'}>,\n",
       "        <AxesSubplot:title={'center':'drop_lat'}>],\n",
       "       [<AxesSubplot:title={'center':'pick_lon'}>,\n",
       "        <AxesSubplot:title={'center':'drop_lon'}>]], dtype=object)"
      ]
     },
     "execution_count": 8,
     "metadata": {},
     "output_type": "execute_result"
    },
    {
     "data": {
      "image/png": "[encoded data removed]",
      "text/plain": [
       "<Figure size 720x720 with 4 Axes>"
      ]
     },
     "metadata": {
      "needs_background": "light"
     },
     "output_type": "display_data"
    }
   ],
   "source": [
    "data.hist([\"pick_lat\",\"drop_lat\",\"pick_lon\",\"drop_lon\"],figsize=(10,10))"
   ]
  },
  {
   "cell_type": "code",
   "execution_count": 11,
   "metadata": {},
   "outputs": [
    {
     "data": {
      "image/png": "[encoded data removed]",
      "text/plain": [
       "<Figure size 576x432 with 1 Axes>"
      ]
     },
     "metadata": {
      "needs_background": "light"
     },
     "output_type": "display_data"
    }
   ],
   "source": [
    "df = pd.DataFrame()\n",
    "a = np.hstack((data[['pick_lon','pick_lat']],data[['drop_lon','drop_lat']]))\n",
    "df[['lon','lat']] = np.array([[aa[0],aa[1]] for aa in a])\n",
    "\n",
    "geometry = [Point(xy) for xy in zip(df['lon'], df['lat'])]\n",
    "gdf = GeoDataFrame(df, geometry=geometry)   \n",
    "#this is a simple map that goes with geopandas\n",
    "world = gpd.read_file(gpd.datasets.get_path('naturalearth_lowres'))\n",
    "gdf.plot(ax=world.plot(figsize=(8, 6)), marker='o', color='red', markersize=15);\n",
    "plt.savefig('./figs/worldscatter.png',dpi=414,bbox_inches='tight')"
   ]
  },
  {
   "cell_type": "markdown",
   "metadata": {},
   "source": [
    "Let us only keep the rides from around NYC"
   ]
  },
  {
   "cell_type": "code",
   "execution_count": 7,
   "metadata": {},
   "outputs": [],
   "source": [
    "# Clean the data in terms of outlier co-ordinates\n",
    "data = data[~((data['pick_lon']>-72) | (data['pick_lon']<-76) | (data['pick_lat']>42) | (data['pick_lat']<39))]\n",
    "data = data[~((data['drop_lon']>-72) | (data['drop_lon']<-76) | (data['drop_lat']>42) | (data['drop_lat']<39))]"
   ]
  },
  {
   "cell_type": "code",
   "execution_count": 13,
   "metadata": {},
   "outputs": [
    {
     "name": "stdout",
     "output_type": "stream",
     "text": [
      "Number of data points removed = 4153 (2.0765%)\n"
     ]
    }
   ],
   "source": [
    "print('Number of data points removed = {} ({}%)'.format(200000-len(data),(200000-len(data))/2000))"
   ]
  },
  {
   "cell_type": "code",
   "execution_count": 15,
   "metadata": {},
   "outputs": [],
   "source": [
    "df = pd.DataFrame()\n",
    "a = np.vstack((data[['pick_lon','pick_lat']],data[['drop_lon','drop_lat']]))\n",
    "df[['lon','lat']] = np.array([[aa[0],aa[1]] for aa in a])\n",
    "\n",
    "geometry = [Point(xy) for xy in zip(df['lon'], df['lat'])]\n",
    "gdf = GeoDataFrame(df, geometry=geometry)   \n",
    "#this is a simple map that goes with geopandas\n",
    "world = gpd.read_file(gpd.datasets.get_path('naturalearth_lowres'))"
   ]
  },
  {
   "cell_type": "code",
   "execution_count": 16,
   "metadata": {},
   "outputs": [
    {
     "data": {
      "image/png": "[encoded data removed]",
      "text/plain": [
       "<Figure size 720x432 with 1 Axes>"
      ]
     },
     "metadata": {
      "needs_background": "light"
     },
     "output_type": "display_data"
    }
   ],
   "source": [
    "ax = gdf.plot(ax=world.plot(figsize=(10, 6)), marker='o', color='red', markersize=15)\n",
    "ax.set_xlim(-76, -72)\n",
    "ax.set_ylim(39,42)\n",
    "plt.savefig('./figs/nycscatter.pdf',dpi=414,bbox_inches='tight')"
   ]
  },
  {
   "cell_type": "code",
   "execution_count": 23,
   "metadata": {},
   "outputs": [
    {
     "data": {
      "text/html": [
       "<div>\n",
       "<style scoped>\n",
       "    .dataframe tbody tr th:only-of-type {\n",
       "        vertical-align: middle;\n",
       "    }\n",
       "\n",
       "    .dataframe tbody tr th {\n",
       "        vertical-align: top;\n",
       "    }\n",
       "\n",
       "    .dataframe thead th {\n",
       "        text-align: right;\n",
       "    }\n",
       "</style>\n",
       "<table border=\"1\" class=\"dataframe\">\n",
       "  <thead>\n",
       "    <tr style=\"text-align: right;\">\n",
       "      <th></th>\n",
       "      <th>fare</th>\n",
       "      <th>datetime</th>\n",
       "      <th>pick_lon</th>\n",
       "      <th>pick_lat</th>\n",
       "      <th>drop_lon</th>\n",
       "      <th>drop_lat</th>\n",
       "      <th>passenger</th>\n",
       "    </tr>\n",
       "  </thead>\n",
       "  <tbody>\n",
       "    <tr>\n",
       "      <th>0</th>\n",
       "      <td>7.5</td>\n",
       "      <td>2015-05-07 19:52:06 UTC</td>\n",
       "      <td>-73.999817</td>\n",
       "      <td>40.738354</td>\n",
       "      <td>-73.999512</td>\n",
       "      <td>40.723217</td>\n",
       "      <td>1</td>\n",
       "    </tr>\n",
       "    <tr>\n",
       "      <th>1</th>\n",
       "      <td>7.7</td>\n",
       "      <td>2009-07-17 20:04:56 UTC</td>\n",
       "      <td>-73.994355</td>\n",
       "      <td>40.728225</td>\n",
       "      <td>-73.994710</td>\n",
       "      <td>40.750325</td>\n",
       "      <td>1</td>\n",
       "    </tr>\n",
       "    <tr>\n",
       "      <th>2</th>\n",
       "      <td>12.9</td>\n",
       "      <td>2009-08-24 21:45:00 UTC</td>\n",
       "      <td>-74.005043</td>\n",
       "      <td>40.740770</td>\n",
       "      <td>-73.962565</td>\n",
       "      <td>40.772647</td>\n",
       "      <td>1</td>\n",
       "    </tr>\n",
       "    <tr>\n",
       "      <th>3</th>\n",
       "      <td>5.3</td>\n",
       "      <td>2009-06-26 08:22:21 UTC</td>\n",
       "      <td>-73.976124</td>\n",
       "      <td>40.790844</td>\n",
       "      <td>-73.965316</td>\n",
       "      <td>40.803349</td>\n",
       "      <td>3</td>\n",
       "    </tr>\n",
       "    <tr>\n",
       "      <th>4</th>\n",
       "      <td>16.0</td>\n",
       "      <td>2014-08-28 17:47:00 UTC</td>\n",
       "      <td>-73.925023</td>\n",
       "      <td>40.744085</td>\n",
       "      <td>-73.973082</td>\n",
       "      <td>40.761247</td>\n",
       "      <td>5</td>\n",
       "    </tr>\n",
       "    <tr>\n",
       "      <th>...</th>\n",
       "      <td>...</td>\n",
       "      <td>...</td>\n",
       "      <td>...</td>\n",
       "      <td>...</td>\n",
       "      <td>...</td>\n",
       "      <td>...</td>\n",
       "      <td>...</td>\n",
       "    </tr>\n",
       "    <tr>\n",
       "      <th>199995</th>\n",
       "      <td>3.0</td>\n",
       "      <td>2012-10-28 10:49:00 UTC</td>\n",
       "      <td>-73.987042</td>\n",
       "      <td>40.739367</td>\n",
       "      <td>-73.986525</td>\n",
       "      <td>40.740297</td>\n",
       "      <td>1</td>\n",
       "    </tr>\n",
       "    <tr>\n",
       "      <th>199996</th>\n",
       "      <td>7.5</td>\n",
       "      <td>2014-03-14 01:09:00 UTC</td>\n",
       "      <td>-73.984722</td>\n",
       "      <td>40.736837</td>\n",
       "      <td>-74.006672</td>\n",
       "      <td>40.739620</td>\n",
       "      <td>1</td>\n",
       "    </tr>\n",
       "    <tr>\n",
       "      <th>199997</th>\n",
       "      <td>30.9</td>\n",
       "      <td>2009-06-29 00:42:00 UTC</td>\n",
       "      <td>-73.986017</td>\n",
       "      <td>40.756487</td>\n",
       "      <td>-73.858957</td>\n",
       "      <td>40.692588</td>\n",
       "      <td>2</td>\n",
       "    </tr>\n",
       "    <tr>\n",
       "      <th>199998</th>\n",
       "      <td>14.5</td>\n",
       "      <td>2015-05-20 14:56:25 UTC</td>\n",
       "      <td>-73.997124</td>\n",
       "      <td>40.725452</td>\n",
       "      <td>-73.983215</td>\n",
       "      <td>40.695415</td>\n",
       "      <td>1</td>\n",
       "    </tr>\n",
       "    <tr>\n",
       "      <th>199999</th>\n",
       "      <td>14.1</td>\n",
       "      <td>2010-05-15 04:08:00 UTC</td>\n",
       "      <td>-73.984395</td>\n",
       "      <td>40.720077</td>\n",
       "      <td>-73.985508</td>\n",
       "      <td>40.768793</td>\n",
       "      <td>1</td>\n",
       "    </tr>\n",
       "  </tbody>\n",
       "</table>\n",
       "<p>199988 rows × 7 columns</p>\n",
       "</div>"
      ],
      "text/plain": [
       "        fare                 datetime   pick_lon   pick_lat   drop_lon  \\\n",
       "0        7.5  2015-05-07 19:52:06 UTC -73.999817  40.738354 -73.999512   \n",
       "1        7.7  2009-07-17 20:04:56 UTC -73.994355  40.728225 -73.994710   \n",
       "2       12.9  2009-08-24 21:45:00 UTC -74.005043  40.740770 -73.962565   \n",
       "3        5.3  2009-06-26 08:22:21 UTC -73.976124  40.790844 -73.965316   \n",
       "4       16.0  2014-08-28 17:47:00 UTC -73.925023  40.744085 -73.973082   \n",
       "...      ...                      ...        ...        ...        ...   \n",
       "199995   3.0  2012-10-28 10:49:00 UTC -73.987042  40.739367 -73.986525   \n",
       "199996   7.5  2014-03-14 01:09:00 UTC -73.984722  40.736837 -74.006672   \n",
       "199997  30.9  2009-06-29 00:42:00 UTC -73.986017  40.756487 -73.858957   \n",
       "199998  14.5  2015-05-20 14:56:25 UTC -73.997124  40.725452 -73.983215   \n",
       "199999  14.1  2010-05-15 04:08:00 UTC -73.984395  40.720077 -73.985508   \n",
       "\n",
       "         drop_lat  passenger  \n",
       "0       40.723217          1  \n",
       "1       40.750325          1  \n",
       "2       40.772647          1  \n",
       "3       40.803349          3  \n",
       "4       40.761247          5  \n",
       "...           ...        ...  \n",
       "199995  40.740297          1  \n",
       "199996  40.739620          1  \n",
       "199997  40.692588          2  \n",
       "199998  40.695415          1  \n",
       "199999  40.768793          1  \n",
       "\n",
       "[199988 rows x 7 columns]"
      ]
     },
     "execution_count": 23,
     "metadata": {},
     "output_type": "execute_result"
    }
   ],
   "source": [
    "data"
   ]
  },
  {
   "cell_type": "code",
   "execution_count": 11,
   "metadata": {},
   "outputs": [],
   "source": [
    "# Drop the key column\n",
    "data = data.drop(columns=[\"key\"])\n",
    "# Convert the pickup time column to datatime format\n",
    "data.pickup_datetime = pd.to_datetime(data.pickup_datetime)\n",
    "data.pickup_datetime = data.pickup_datetime.dt.tz_convert('America/New_York')"
   ]
  },
  {
   "cell_type": "markdown",
   "metadata": {},
   "source": [
    "Add additional columns related to the pick up time such as the year, quarter, month, day of the month, day of the week, hour of the day, isweekday"
   ]
  },
  {
   "cell_type": "code",
   "execution_count": 12,
   "metadata": {},
   "outputs": [],
   "source": [
    "data [[\"year\",\"quarter\",\"month\",\"day\",\"dayofweek\",\"hour\"]] = [[time.year,time.quarter, time.month,time.day,time.dayofweek,time.hour] for time in data.pickup_datetime]\n",
    "data[\"isweekend\"] = (data.dayofweek > 4)*1"
   ]
  },
  {
   "cell_type": "code",
   "execution_count": 13,
   "metadata": {},
   "outputs": [
    {
     "data": {
      "text/html": [
       "<div>\n",
       "<style scoped>\n",
       "    .dataframe tbody tr th:only-of-type {\n",
       "        vertical-align: middle;\n",
       "    }\n",
       "\n",
       "    .dataframe tbody tr th {\n",
       "        vertical-align: top;\n",
       "    }\n",
       "\n",
       "    .dataframe thead th {\n",
       "        text-align: right;\n",
       "    }\n",
       "</style>\n",
       "<table border=\"1\" class=\"dataframe\">\n",
       "  <thead>\n",
       "    <tr style=\"text-align: right;\">\n",
       "      <th></th>\n",
       "      <th>fare_amount</th>\n",
       "      <th>pickup_datetime</th>\n",
       "      <th>pickup_longitude</th>\n",
       "      <th>pickup_latitude</th>\n",
       "      <th>dropoff_longitude</th>\n",
       "      <th>dropoff_latitude</th>\n",
       "      <th>passenger_count</th>\n",
       "      <th>year</th>\n",
       "      <th>quarter</th>\n",
       "      <th>month</th>\n",
       "      <th>day</th>\n",
       "      <th>dayofweek</th>\n",
       "      <th>hour</th>\n",
       "      <th>isweekend</th>\n",
       "    </tr>\n",
       "  </thead>\n",
       "  <tbody>\n",
       "    <tr>\n",
       "      <th>24238194</th>\n",
       "      <td>7.5</td>\n",
       "      <td>2015-05-07 15:52:06-04:00</td>\n",
       "      <td>-73.999817</td>\n",
       "      <td>40.738354</td>\n",
       "      <td>-73.999512</td>\n",
       "      <td>40.723217</td>\n",
       "      <td>1</td>\n",
       "      <td>2015</td>\n",
       "      <td>2</td>\n",
       "      <td>5</td>\n",
       "      <td>7</td>\n",
       "      <td>3</td>\n",
       "      <td>15</td>\n",
       "      <td>0</td>\n",
       "    </tr>\n",
       "    <tr>\n",
       "      <th>27835199</th>\n",
       "      <td>7.7</td>\n",
       "      <td>2009-07-17 16:04:56-04:00</td>\n",
       "      <td>-73.994355</td>\n",
       "      <td>40.728225</td>\n",
       "      <td>-73.994710</td>\n",
       "      <td>40.750325</td>\n",
       "      <td>1</td>\n",
       "      <td>2009</td>\n",
       "      <td>3</td>\n",
       "      <td>7</td>\n",
       "      <td>17</td>\n",
       "      <td>4</td>\n",
       "      <td>16</td>\n",
       "      <td>0</td>\n",
       "    </tr>\n",
       "    <tr>\n",
       "      <th>44984355</th>\n",
       "      <td>12.9</td>\n",
       "      <td>2009-08-24 17:45:00-04:00</td>\n",
       "      <td>-74.005043</td>\n",
       "      <td>40.740770</td>\n",
       "      <td>-73.962565</td>\n",
       "      <td>40.772647</td>\n",
       "      <td>1</td>\n",
       "      <td>2009</td>\n",
       "      <td>3</td>\n",
       "      <td>8</td>\n",
       "      <td>24</td>\n",
       "      <td>0</td>\n",
       "      <td>17</td>\n",
       "      <td>0</td>\n",
       "    </tr>\n",
       "    <tr>\n",
       "      <th>25894730</th>\n",
       "      <td>5.3</td>\n",
       "      <td>2009-06-26 04:22:21-04:00</td>\n",
       "      <td>-73.976124</td>\n",
       "      <td>40.790844</td>\n",
       "      <td>-73.965316</td>\n",
       "      <td>40.803349</td>\n",
       "      <td>3</td>\n",
       "      <td>2009</td>\n",
       "      <td>2</td>\n",
       "      <td>6</td>\n",
       "      <td>26</td>\n",
       "      <td>4</td>\n",
       "      <td>4</td>\n",
       "      <td>0</td>\n",
       "    </tr>\n",
       "    <tr>\n",
       "      <th>17610152</th>\n",
       "      <td>16.0</td>\n",
       "      <td>2014-08-28 13:47:00-04:00</td>\n",
       "      <td>-73.925023</td>\n",
       "      <td>40.744085</td>\n",
       "      <td>-73.973082</td>\n",
       "      <td>40.761247</td>\n",
       "      <td>5</td>\n",
       "      <td>2014</td>\n",
       "      <td>3</td>\n",
       "      <td>8</td>\n",
       "      <td>28</td>\n",
       "      <td>3</td>\n",
       "      <td>13</td>\n",
       "      <td>0</td>\n",
       "    </tr>\n",
       "    <tr>\n",
       "      <th>...</th>\n",
       "      <td>...</td>\n",
       "      <td>...</td>\n",
       "      <td>...</td>\n",
       "      <td>...</td>\n",
       "      <td>...</td>\n",
       "      <td>...</td>\n",
       "      <td>...</td>\n",
       "      <td>...</td>\n",
       "      <td>...</td>\n",
       "      <td>...</td>\n",
       "      <td>...</td>\n",
       "      <td>...</td>\n",
       "      <td>...</td>\n",
       "      <td>...</td>\n",
       "    </tr>\n",
       "    <tr>\n",
       "      <th>42598914</th>\n",
       "      <td>3.0</td>\n",
       "      <td>2012-10-28 06:49:00-04:00</td>\n",
       "      <td>-73.987042</td>\n",
       "      <td>40.739367</td>\n",
       "      <td>-73.986525</td>\n",
       "      <td>40.740297</td>\n",
       "      <td>1</td>\n",
       "      <td>2012</td>\n",
       "      <td>4</td>\n",
       "      <td>10</td>\n",
       "      <td>28</td>\n",
       "      <td>6</td>\n",
       "      <td>6</td>\n",
       "      <td>1</td>\n",
       "    </tr>\n",
       "    <tr>\n",
       "      <th>16382965</th>\n",
       "      <td>7.5</td>\n",
       "      <td>2014-03-13 21:09:00-04:00</td>\n",
       "      <td>-73.984722</td>\n",
       "      <td>40.736837</td>\n",
       "      <td>-74.006672</td>\n",
       "      <td>40.739620</td>\n",
       "      <td>1</td>\n",
       "      <td>2014</td>\n",
       "      <td>1</td>\n",
       "      <td>3</td>\n",
       "      <td>13</td>\n",
       "      <td>3</td>\n",
       "      <td>21</td>\n",
       "      <td>0</td>\n",
       "    </tr>\n",
       "    <tr>\n",
       "      <th>27804658</th>\n",
       "      <td>30.9</td>\n",
       "      <td>2009-06-28 20:42:00-04:00</td>\n",
       "      <td>-73.986017</td>\n",
       "      <td>40.756487</td>\n",
       "      <td>-73.858957</td>\n",
       "      <td>40.692588</td>\n",
       "      <td>2</td>\n",
       "      <td>2009</td>\n",
       "      <td>2</td>\n",
       "      <td>6</td>\n",
       "      <td>28</td>\n",
       "      <td>6</td>\n",
       "      <td>20</td>\n",
       "      <td>1</td>\n",
       "    </tr>\n",
       "    <tr>\n",
       "      <th>20259894</th>\n",
       "      <td>14.5</td>\n",
       "      <td>2015-05-20 10:56:25-04:00</td>\n",
       "      <td>-73.997124</td>\n",
       "      <td>40.725452</td>\n",
       "      <td>-73.983215</td>\n",
       "      <td>40.695415</td>\n",
       "      <td>1</td>\n",
       "      <td>2015</td>\n",
       "      <td>2</td>\n",
       "      <td>5</td>\n",
       "      <td>20</td>\n",
       "      <td>2</td>\n",
       "      <td>10</td>\n",
       "      <td>0</td>\n",
       "    </tr>\n",
       "    <tr>\n",
       "      <th>11951496</th>\n",
       "      <td>14.1</td>\n",
       "      <td>2010-05-15 00:08:00-04:00</td>\n",
       "      <td>-73.984395</td>\n",
       "      <td>40.720077</td>\n",
       "      <td>-73.985508</td>\n",
       "      <td>40.768793</td>\n",
       "      <td>1</td>\n",
       "      <td>2010</td>\n",
       "      <td>2</td>\n",
       "      <td>5</td>\n",
       "      <td>15</td>\n",
       "      <td>5</td>\n",
       "      <td>0</td>\n",
       "      <td>1</td>\n",
       "    </tr>\n",
       "  </tbody>\n",
       "</table>\n",
       "<p>195846 rows × 14 columns</p>\n",
       "</div>"
      ],
      "text/plain": [
       "          fare_amount           pickup_datetime  pickup_longitude  \\\n",
       "24238194          7.5 2015-05-07 15:52:06-04:00        -73.999817   \n",
       "27835199          7.7 2009-07-17 16:04:56-04:00        -73.994355   \n",
       "44984355         12.9 2009-08-24 17:45:00-04:00        -74.005043   \n",
       "25894730          5.3 2009-06-26 04:22:21-04:00        -73.976124   \n",
       "17610152         16.0 2014-08-28 13:47:00-04:00        -73.925023   \n",
       "...               ...                       ...               ...   \n",
       "42598914          3.0 2012-10-28 06:49:00-04:00        -73.987042   \n",
       "16382965          7.5 2014-03-13 21:09:00-04:00        -73.984722   \n",
       "27804658         30.9 2009-06-28 20:42:00-04:00        -73.986017   \n",
       "20259894         14.5 2015-05-20 10:56:25-04:00        -73.997124   \n",
       "11951496         14.1 2010-05-15 00:08:00-04:00        -73.984395   \n",
       "\n",
       "          pickup_latitude  dropoff_longitude  dropoff_latitude  \\\n",
       "24238194        40.738354         -73.999512         40.723217   \n",
       "27835199        40.728225         -73.994710         40.750325   \n",
       "44984355        40.740770         -73.962565         40.772647   \n",
       "25894730        40.790844         -73.965316         40.803349   \n",
       "17610152        40.744085         -73.973082         40.761247   \n",
       "...                   ...                ...               ...   \n",
       "42598914        40.739367         -73.986525         40.740297   \n",
       "16382965        40.736837         -74.006672         40.739620   \n",
       "27804658        40.756487         -73.858957         40.692588   \n",
       "20259894        40.725452         -73.983215         40.695415   \n",
       "11951496        40.720077         -73.985508         40.768793   \n",
       "\n",
       "          passenger_count  year  quarter  month  day  dayofweek  hour  \\\n",
       "24238194                1  2015        2      5    7          3    15   \n",
       "27835199                1  2009        3      7   17          4    16   \n",
       "44984355                1  2009        3      8   24          0    17   \n",
       "25894730                3  2009        2      6   26          4     4   \n",
       "17610152                5  2014        3      8   28          3    13   \n",
       "...                   ...   ...      ...    ...  ...        ...   ...   \n",
       "42598914                1  2012        4     10   28          6     6   \n",
       "16382965                1  2014        1      3   13          3    21   \n",
       "27804658                2  2009        2      6   28          6    20   \n",
       "20259894                1  2015        2      5   20          2    10   \n",
       "11951496                1  2010        2      5   15          5     0   \n",
       "\n",
       "          isweekend  \n",
       "24238194          0  \n",
       "27835199          0  \n",
       "44984355          0  \n",
       "25894730          0  \n",
       "17610152          0  \n",
       "...             ...  \n",
       "42598914          1  \n",
       "16382965          0  \n",
       "27804658          1  \n",
       "20259894          0  \n",
       "11951496          1  \n",
       "\n",
       "[195846 rows x 14 columns]"
      ]
     },
     "execution_count": 13,
     "metadata": {},
     "output_type": "execute_result"
    }
   ],
   "source": [
    "data"
   ]
  },
  {
   "cell_type": "code",
   "execution_count": 14,
   "metadata": {},
   "outputs": [],
   "source": [
    "# graph_area = [\"New York, USA\"]\n",
    "# G = ox.graph_from_place(graph_area, network_type='drive')\n",
    "# G = ox.add_edge_speeds(G)\n",
    "# G = ox.add_edge_travel_times(G)\n",
    "# ox.save_graphml(G, \"NewYork.graphml\")\n",
    "\n",
    "G = ox.load_graphml(\"Manhattan.graphml\")\n",
    "\n",
    "# origin_coordinates = (40.70195053163349, -74.01123198479581)\n",
    "# destination_coordinates = (40.87148739347057, -73.91517498611597)\n",
    "# origin_node = ox.distance.nearest_nodes(G, origin_coordinates[1], origin_coordinates[0])\n",
    "# destination_node = ox.distance.nearest_nodes(G, destination_coordinates[1], destination_coordinates[0])\n",
    "\n",
    "# distance_in_meters = nx.shortest_path_length(G, origin_node, destination_node, weight='length')\n",
    "# print(distance_in_meters)"
   ]
  },
  {
   "cell_type": "code",
   "execution_count": 15,
   "metadata": {},
   "outputs": [
    {
     "data": {
      "text/plain": [
       "<AxesSubplot:xlabel='pickup_longitude', ylabel='pickup_latitude'>"
      ]
     },
     "execution_count": 15,
     "metadata": {},
     "output_type": "execute_result"
    },
    {
     "data": {
      "image/png": "[encoded data removed]",
      "text/plain": [
       "<Figure size 576x576 with 1 Axes>"
      ]
     },
     "metadata": {},
     "output_type": "display_data"
    }
   ],
   "source": [
    "fig, ax = ox.plot_graph(G, show=False, close=False)\n",
    "data.plot(x='pickup_longitude',y='pick_lat',kind='scatter',ax=ax)"
   ]
  },
  {
   "cell_type": "code",
   "execution_count": 15,
   "metadata": {},
   "outputs": [],
   "source": [
    "X = data[['pickup_longitude','pick_lat']] # np.hstack((data[['pickup_longitude','pick_lat']],data[['drop_lon','drop_lat']]))"
   ]
  },
  {
   "cell_type": "code",
   "execution_count": 4,
   "metadata": {},
   "outputs": [
    {
     "name": "stdout",
     "output_type": "stream",
     "text": [
      "Q1 25 percentile of the given data is,  -74.006838\n",
      "Q1 50 percentile of the given data is,  -73.98182299999999\n",
      "Q1 75 percentile of the given data is,  -73.871196\n",
      "Interquartile range is 0.13564200000000426\n"
     ]
    },
    {
     "name": "stderr",
     "output_type": "stream",
     "text": [
      "/var/folders/0g/sh5twr412574pwntlhzb221w0000gn/T/ipykernel_55556/468686387.py:4: DeprecationWarning: the `interpolation=` argument to percentile was renamed to `method=`, which has additional options.\n",
      "Users of the modes 'nearest', 'lower', 'higher', or 'midpoint' are encouraged to review the method they. (Deprecated NumPy 1.22)\n",
      "  Q1 = np.percentile(X, 5, interpolation = 'midpoint')\n",
      "/var/folders/0g/sh5twr412574pwntlhzb221w0000gn/T/ipykernel_55556/468686387.py:5: DeprecationWarning: the `interpolation=` argument to percentile was renamed to `method=`, which has additional options.\n",
      "Users of the modes 'nearest', 'lower', 'higher', or 'midpoint' are encouraged to review the method they. (Deprecated NumPy 1.22)\n",
      "  Q2 = np.percentile(X, 50, interpolation = 'midpoint')\n",
      "/var/folders/0g/sh5twr412574pwntlhzb221w0000gn/T/ipykernel_55556/468686387.py:6: DeprecationWarning: the `interpolation=` argument to percentile was renamed to `method=`, which has additional options.\n",
      "Users of the modes 'nearest', 'lower', 'higher', or 'midpoint' are encouraged to review the method they. (Deprecated NumPy 1.22)\n",
      "  Q3 = np.percentile(X, 95, interpolation = 'midpoint')\n"
     ]
    }
   ],
   "source": [
    "X = data.pickup_longitude\n",
    "sortX = np.sort(X)\n",
    "sortX\n",
    "Q1 = np.percentile(X, 5, interpolation = 'midpoint') \n",
    "Q2 = np.percentile(X, 50, interpolation = 'midpoint') \n",
    "Q3 = np.percentile(X, 95, interpolation = 'midpoint') \n",
    "  \n",
    "print('Q1 25 percentile of the given data is, ', Q1)\n",
    "print('Q1 50 percentile of the given data is, ', Q2)\n",
    "print('Q1 75 percentile of the given data is, ', Q3)\n",
    "  \n",
    "IQR = Q3 - Q1 \n",
    "print('Interquartile range is', IQR)"
   ]
  },
  {
   "cell_type": "code",
   "execution_count": 5,
   "metadata": {},
   "outputs": [
    {
     "name": "stdout",
     "output_type": "stream",
     "text": [
      "low_limit is -74.21030100000002\n",
      "up_limit is -73.667733\n"
     ]
    }
   ],
   "source": [
    "low_lim = Q1 - 1.5 * IQR\n",
    "up_lim = Q3 + 1.5 * IQR\n",
    "print('low_limit is', low_lim)\n",
    "print('up_limit is', up_lim)"
   ]
  },
  {
   "cell_type": "code",
   "execution_count": 32,
   "metadata": {},
   "outputs": [
    {
     "name": "stdout",
     "output_type": "stream",
     "text": [
      " outlier in the dataset is 4103\n"
     ]
    }
   ],
   "source": [
    "outlier =[]\n",
    "for i, x in enumerate(X):\n",
    "    if ((x> up_lim) or (x<low_lim)):\n",
    "         outlier.append(i)\n",
    "print(' outlier in the dataset is', len(outlier))"
   ]
  },
  {
   "cell_type": "code",
   "execution_count": 41,
   "metadata": {},
   "outputs": [
    {
     "data": {
      "text/html": [
       "<div>\n",
       "<style scoped>\n",
       "    .dataframe tbody tr th:only-of-type {\n",
       "        vertical-align: middle;\n",
       "    }\n",
       "\n",
       "    .dataframe tbody tr th {\n",
       "        vertical-align: top;\n",
       "    }\n",
       "\n",
       "    .dataframe thead th {\n",
       "        text-align: right;\n",
       "    }\n",
       "</style>\n",
       "<table border=\"1\" class=\"dataframe\">\n",
       "  <thead>\n",
       "    <tr style=\"text-align: right;\">\n",
       "      <th></th>\n",
       "      <th>pickup_longitude</th>\n",
       "      <th>pickup_latitude</th>\n",
       "      <th>dropoff_longitude</th>\n",
       "      <th>dropoff_latitude</th>\n",
       "    </tr>\n",
       "  </thead>\n",
       "  <tbody>\n",
       "    <tr>\n",
       "      <th>44195482</th>\n",
       "      <td>0.0</td>\n",
       "      <td>0.000000</td>\n",
       "      <td>0.000000</td>\n",
       "      <td>0.000000</td>\n",
       "    </tr>\n",
       "    <tr>\n",
       "      <th>6379048</th>\n",
       "      <td>0.0</td>\n",
       "      <td>0.000000</td>\n",
       "      <td>0.000000</td>\n",
       "      <td>0.000000</td>\n",
       "    </tr>\n",
       "    <tr>\n",
       "      <th>21993993</th>\n",
       "      <td>0.0</td>\n",
       "      <td>0.000000</td>\n",
       "      <td>0.000000</td>\n",
       "      <td>0.000000</td>\n",
       "    </tr>\n",
       "    <tr>\n",
       "      <th>1454546</th>\n",
       "      <td>0.0</td>\n",
       "      <td>0.000000</td>\n",
       "      <td>0.000000</td>\n",
       "      <td>0.000000</td>\n",
       "    </tr>\n",
       "    <tr>\n",
       "      <th>17358122</th>\n",
       "      <td>0.0</td>\n",
       "      <td>0.000000</td>\n",
       "      <td>0.000000</td>\n",
       "      <td>0.000000</td>\n",
       "    </tr>\n",
       "    <tr>\n",
       "      <th>...</th>\n",
       "      <td>...</td>\n",
       "      <td>...</td>\n",
       "      <td>...</td>\n",
       "      <td>...</td>\n",
       "    </tr>\n",
       "    <tr>\n",
       "      <th>46007628</th>\n",
       "      <td>0.0</td>\n",
       "      <td>0.000000</td>\n",
       "      <td>0.000000</td>\n",
       "      <td>0.000000</td>\n",
       "    </tr>\n",
       "    <tr>\n",
       "      <th>35013970</th>\n",
       "      <td>0.0</td>\n",
       "      <td>0.000000</td>\n",
       "      <td>0.000000</td>\n",
       "      <td>0.000000</td>\n",
       "    </tr>\n",
       "    <tr>\n",
       "      <th>44115598</th>\n",
       "      <td>0.0</td>\n",
       "      <td>0.000000</td>\n",
       "      <td>0.000000</td>\n",
       "      <td>0.000000</td>\n",
       "    </tr>\n",
       "    <tr>\n",
       "      <th>44787414</th>\n",
       "      <td>-736.4</td>\n",
       "      <td>40.774307</td>\n",
       "      <td>-73.982215</td>\n",
       "      <td>40.769672</td>\n",
       "    </tr>\n",
       "    <tr>\n",
       "      <th>50075618</th>\n",
       "      <td>0.0</td>\n",
       "      <td>0.000000</td>\n",
       "      <td>0.000000</td>\n",
       "      <td>0.000000</td>\n",
       "    </tr>\n",
       "  </tbody>\n",
       "</table>\n",
       "<p>4103 rows × 4 columns</p>\n",
       "</div>"
      ],
      "text/plain": [
       "          pickup_longitude  pickup_latitude  dropoff_longitude  \\\n",
       "44195482               0.0         0.000000           0.000000   \n",
       "6379048                0.0         0.000000           0.000000   \n",
       "21993993               0.0         0.000000           0.000000   \n",
       "1454546                0.0         0.000000           0.000000   \n",
       "17358122               0.0         0.000000           0.000000   \n",
       "...                    ...              ...                ...   \n",
       "46007628               0.0         0.000000           0.000000   \n",
       "35013970               0.0         0.000000           0.000000   \n",
       "44115598               0.0         0.000000           0.000000   \n",
       "44787414            -736.4        40.774307         -73.982215   \n",
       "50075618               0.0         0.000000           0.000000   \n",
       "\n",
       "          dropoff_latitude  \n",
       "44195482          0.000000  \n",
       "6379048           0.000000  \n",
       "21993993          0.000000  \n",
       "1454546           0.000000  \n",
       "17358122          0.000000  \n",
       "...                    ...  \n",
       "46007628          0.000000  \n",
       "35013970          0.000000  \n",
       "44115598          0.000000  \n",
       "44787414         40.769672  \n",
       "50075618          0.000000  \n",
       "\n",
       "[4103 rows x 4 columns]"
      ]
     },
     "execution_count": 41,
     "metadata": {},
     "output_type": "execute_result"
    }
   ],
   "source": [
    "data[['pickup_longitude','pick_lat','drop_lon','drop_lat']].iloc[outlier]"
   ]
  },
  {
   "cell_type": "code",
   "execution_count": 6,
   "metadata": {},
   "outputs": [],
   "source": [
    "G = ox.graph_from_bbox( 42, 39, -72, -76, network_type='drive', simplify=True, retain_all=False)"
   ]
  },
  {
   "cell_type": "code",
   "execution_count": null,
   "metadata": {},
   "outputs": [],
   "source": [
    "ox.save_graphml(G, \"BBox.graphml\")"
   ]
  },
  {
   "cell_type": "code",
   "execution_count": null,
   "metadata": {},
   "outputs": [],
   "source": []
  }
 ],
 "metadata": {
  "interpreter": {
   "hash": "1baa965d5efe3ac65b79dfc60c0d706280b1da80fedb7760faf2759126c4f253"
  },
  "kernelspec": {
   "display_name": "Python 3.8.8 64-bit",
   "language": "python",
   "name": "python3"
  },
  "language_info": {
   "codemirror_mode": {
    "name": "ipython",
    "version": 3
   },
   "file_extension": ".py",
   "mimetype": "text/x-python",
   "name": "python",
   "nbconvert_exporter": "python",
   "pygments_lexer": "ipython3",
   "version": "3.10.2"
  },
  "orig_nbformat": 4
 },
 "nbformat": 4,
 "nbformat_minor": 2
}
